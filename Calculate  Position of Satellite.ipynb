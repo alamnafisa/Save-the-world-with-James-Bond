{
 "cells": [
  {
   "cell_type": "code",
   "execution_count": 2,
   "metadata": {},
   "outputs": [
    {
     "name": "stdout",
     "output_type": "stream",
     "text": [
      "List of next 14 coordinates including the first one [(5, 5), (20.0, 20.0), (35.0, 35.0), (50.0, 50.0), (65.0, 65.0), (80.0, 80.0), (95.0, 95.0), (110.0, 110.0), (125.0, 125.0), (140.0, 140.0), (155.0, 155.0), (170.0, 170.0), (185.0, 185.0), (200.0, 200.0)]\n"
     ]
    }
   ],
   "source": [
    "coordinates= (5,5)\n",
    "total_incidence= 13\n",
    "perhourchange= float (360/24)\n",
    "x_coordinates= coordinates [0]\n",
    "y_coordinates=coordinates [1]\n",
    "coordinatesarray=[]\n",
    "\n",
    "coordinatesarray.append (coordinates)\n",
    "allcounts= len (coordinatesarray)\n",
    "\n",
    "for i in coordinatesarray:\n",
    "    \n",
    "    if len(coordinatesarray)<= total_incidence:\n",
    "        \n",
    "        newx_coordinates = x_coordinates + perhourchange\n",
    "        newy_coordinates = y_coordinates + perhourchange\n",
    "        \n",
    "        new_coord= (newx_coordinates,newy_coordinates)\n",
    "        \n",
    "        coordinatesarray.append (new_coord)\n",
    "        \n",
    "        allcounts= allcounts +1\n",
    "        \n",
    "        x_coordinates= newx_coordinates\n",
    "        y_coordinates=newy_coordinates \n",
    "\n",
    "print (\"List of next 14 coordinates including the first one\", coordinatesarray)"
   ]
  },
  {
   "cell_type": "code",
   "execution_count": 3,
   "metadata": {},
   "outputs": [
    {
     "name": "stdout",
     "output_type": "stream",
     "text": [
      "These are the x coordinates [5, 20.0, 35.0, 50.0, 65.0, 80.0, 95.0, 110.0, 125.0, 140.0, 155.0, 170.0, 185.0, 200.0]\n",
      "These are the y coordinates [5, 20.0, 35.0, 50.0, 65.0, 80.0, 95.0, 110.0, 125.0, 140.0, 155.0, 170.0, 185.0, 200.0]\n"
     ]
    },
    {
     "data": {
      "image/png": "[encoded data removed]",
      "text/plain": [
       "<Figure size 432x288 with 1 Axes>"
      ]
     },
     "metadata": {
      "needs_background": "light"
     },
     "output_type": "display_data"
    }
   ],
   "source": [
    "xValues= []\n",
    "yValues=[]\n",
    "for x in coordinatesarray:\n",
    "    xVal= x[0]\n",
    "    xValues. append (xVal)\n",
    "    \n",
    "for y in coordinatesarray:\n",
    "    yVal= y[0]\n",
    "    yValues. append (yVal)    \n",
    "print (\"These are the x coordinates\", xValues)\n",
    "print (\"These are the y coordinates\", yValues)\n",
    " \n",
    "import matplotlib.pyplot as plt\n",
    "\n",
    "plt.plot(xValues, yValues)\n",
    "plt.xlabel('x coordinate')\n",
    "plt.ylabel('y coordinate')\n",
    "plt.title('Position of Satellite')\n",
    "plt.show()\n"
   ]
  },
  {
   "cell_type": "code",
   "execution_count": null,
   "metadata": {},
   "outputs": [],
   "source": []
  }
 ],
 "metadata": {
  "kernelspec": {
   "display_name": "Python 3",
   "language": "python",
   "name": "python3"
  },
  "language_info": {
   "codemirror_mode": {
    "name": "ipython",
    "version": 3
   },
   "file_extension": ".py",
   "mimetype": "text/x-python",
   "name": "python",
   "nbconvert_exporter": "python",
   "pygments_lexer": "ipython3",
   "version": "3.8.5"
  }
 },
 "nbformat": 4,
 "nbformat_minor": 4
}
